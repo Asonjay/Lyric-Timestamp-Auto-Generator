{
 "cells": [
  {
   "cell_type": "code",
   "execution_count": 3,
   "metadata": {},
   "outputs": [],
   "source": [
    "import glob\n",
    "import os\n",
    "import re\n",
    "\n",
    "import librosa\n",
    "import torch\n",
    "import numpy as np\n",
    "\n",
    "SEC_PER_MIN = 60"
   ]
  },
  {
   "cell_type": "markdown",
   "metadata": {},
   "source": [
    "# Generating Lyric Label\n",
    "    \n",
    "    :format: name.label"
   ]
  },
  {
   "cell_type": "code",
   "execution_count": 4,
   "metadata": {},
   "outputs": [],
   "source": [
    "def generate_lyrics_label():\n",
    "    for filename in glob.glob(os.path.join(os.getcwd() + '\\Model_Data\\lyrics', '*.txt')):\n",
    "        with open(filename, 'r') as r:\n",
    "            lines = r.readlines()\n",
    "            label_list = [0] * 2 * SEC_PER_MIN \n",
    "            for line in lines:\n",
    "                timestamp = re.split(r'\\[|\\]', line)[1]\n",
    "                time = re.split(r'[.:]', timestamp)\n",
    "                # time format: [min, sec, minisec]\n",
    "                if int(time[0]) < 2:\n",
    "                    sec = int(time[1]) + int(time[0]) * SEC_PER_MIN \n",
    "                    label_list[sec] = 1\n",
    "            with open(filename.split('.')[0] + \".label\", 'w') as w:\n",
    "                w.write(' '.join(str(s) for s in label_list))\n",
    "                w.close()\n",
    "        r.close()\n",
    "\n",
    "generate_lyrics_label()"
   ]
  },
  {
   "cell_type": "markdown",
   "metadata": {},
   "source": [
    "# Zip .wav file with labels\n",
    "    \n",
    "    :output: \n",
    "        label_torch (tensor of lyric label)\n",
    "        reg_wav_list (wav, sr) from librosa load\n",
    "        iso_wav_list (wav, sr) from librosa load         "
   ]
  },
  {
   "cell_type": "code",
   "execution_count": 11,
   "metadata": {},
   "outputs": [
    {
     "name": "stdout",
     "output_type": "stream",
     "text": [
      "tensor([[0., 0., 0.,  ..., 0., 0., 0.],\n",
      "        [0., 0., 0.,  ..., 0., 0., 0.],\n",
      "        [0., 0., 0.,  ..., 0., 0., 0.],\n",
      "        ...,\n",
      "        [0., 0., 0.,  ..., 0., 0., 0.],\n",
      "        [0., 0., 0.,  ..., 1., 0., 0.],\n",
      "        [0., 0., 0.,  ..., 0., 0., 1.]])\n",
      "torch.Size([38, 120])\n",
      "Loading file: ABoyNamedSue.wav\n",
      "Loading file: AintNoGrave.wav\n"
     ]
    },
    {
     "ename": "KeyboardInterrupt",
     "evalue": "",
     "output_type": "error",
     "traceback": [
      "\u001b[1;31m---------------------------------------------------------------------------\u001b[0m",
      "\u001b[1;31mKeyboardInterrupt\u001b[0m                         Traceback (most recent call last)",
      "\u001b[1;32mc:\\Users\\Jason\\Documents\\GitHub\\Lyric-Timestamp-Auto-Generator\\data_preprocessing.ipynb Cell 5'\u001b[0m in \u001b[0;36m<cell line: 27>\u001b[1;34m()\u001b[0m\n\u001b[0;32m     <a href='vscode-notebook-cell:/c%3A/Users/Jason/Documents/GitHub/Lyric-Timestamp-Auto-Generator/data_preprocessing.ipynb#ch0000006?line=22'>23</a>\u001b[0m         iso_wav_list\u001b[39m.\u001b[39mappend((iso_wav, iso_sr))\n\u001b[0;32m     <a href='vscode-notebook-cell:/c%3A/Users/Jason/Documents/GitHub/Lyric-Timestamp-Auto-Generator/data_preprocessing.ipynb#ch0000006?line=24'>25</a>\u001b[0m     \u001b[39mreturn\u001b[39;00m label_torch, reg_wav_list, iso_wav_list\n\u001b[1;32m---> <a href='vscode-notebook-cell:/c%3A/Users/Jason/Documents/GitHub/Lyric-Timestamp-Auto-Generator/data_preprocessing.ipynb#ch0000006?line=26'>27</a>\u001b[0m label_torch, reg_wav_list, iso_wav_list \u001b[39m=\u001b[39m zip_label_wav()\n",
      "\u001b[1;32mc:\\Users\\Jason\\Documents\\GitHub\\Lyric-Timestamp-Auto-Generator\\data_preprocessing.ipynb Cell 5'\u001b[0m in \u001b[0;36mzip_label_wav\u001b[1;34m()\u001b[0m\n\u001b[0;32m     <a href='vscode-notebook-cell:/c%3A/Users/Jason/Documents/GitHub/Lyric-Timestamp-Auto-Generator/data_preprocessing.ipynb#ch0000006?line=17'>18</a>\u001b[0m \u001b[39mfor\u001b[39;00m filename \u001b[39min\u001b[39;00m os\u001b[39m.\u001b[39mscandir(reg_dir):\n\u001b[0;32m     <a href='vscode-notebook-cell:/c%3A/Users/Jason/Documents/GitHub/Lyric-Timestamp-Auto-Generator/data_preprocessing.ipynb#ch0000006?line=18'>19</a>\u001b[0m     \u001b[39mprint\u001b[39m(\u001b[39m\"\u001b[39m\u001b[39mLoading file:\u001b[39m\u001b[39m\"\u001b[39m, filename\u001b[39m.\u001b[39mname)\n\u001b[1;32m---> <a href='vscode-notebook-cell:/c%3A/Users/Jason/Documents/GitHub/Lyric-Timestamp-Auto-Generator/data_preprocessing.ipynb#ch0000006?line=19'>20</a>\u001b[0m     reg_wav, reg_sr \u001b[39m=\u001b[39m librosa\u001b[39m.\u001b[39;49mload(filename\u001b[39m.\u001b[39;49mpath, duration\u001b[39m=\u001b[39;49m\u001b[39m120\u001b[39;49m)\n\u001b[0;32m     <a href='vscode-notebook-cell:/c%3A/Users/Jason/Documents/GitHub/Lyric-Timestamp-Auto-Generator/data_preprocessing.ipynb#ch0000006?line=20'>21</a>\u001b[0m     iso_wav, iso_sr \u001b[39m=\u001b[39m librosa\u001b[39m.\u001b[39mload(iso_dir \u001b[39m+\u001b[39m filename\u001b[39m.\u001b[39mname, duration\u001b[39m=\u001b[39m\u001b[39m120\u001b[39m)\n\u001b[0;32m     <a href='vscode-notebook-cell:/c%3A/Users/Jason/Documents/GitHub/Lyric-Timestamp-Auto-Generator/data_preprocessing.ipynb#ch0000006?line=21'>22</a>\u001b[0m     reg_wav_list\u001b[39m.\u001b[39mappend((reg_wav, reg_sr))\n",
      "File \u001b[1;32m~\\AppData\\Local\\Programs\\Python\\Python39\\lib\\site-packages\\librosa\\util\\decorators.py:88\u001b[0m, in \u001b[0;36mdeprecate_positional_args.<locals>._inner_deprecate_positional_args.<locals>.inner_f\u001b[1;34m(*args, **kwargs)\u001b[0m\n\u001b[0;32m     <a href='file:///c%3A/Users/Jason/AppData/Local/Programs/Python/Python39/lib/site-packages/librosa/util/decorators.py?line=85'>86</a>\u001b[0m extra_args \u001b[39m=\u001b[39m \u001b[39mlen\u001b[39m(args) \u001b[39m-\u001b[39m \u001b[39mlen\u001b[39m(all_args)\n\u001b[0;32m     <a href='file:///c%3A/Users/Jason/AppData/Local/Programs/Python/Python39/lib/site-packages/librosa/util/decorators.py?line=86'>87</a>\u001b[0m \u001b[39mif\u001b[39;00m extra_args \u001b[39m<\u001b[39m\u001b[39m=\u001b[39m \u001b[39m0\u001b[39m:\n\u001b[1;32m---> <a href='file:///c%3A/Users/Jason/AppData/Local/Programs/Python/Python39/lib/site-packages/librosa/util/decorators.py?line=87'>88</a>\u001b[0m     \u001b[39mreturn\u001b[39;00m f(\u001b[39m*\u001b[39margs, \u001b[39m*\u001b[39m\u001b[39m*\u001b[39mkwargs)\n\u001b[0;32m     <a href='file:///c%3A/Users/Jason/AppData/Local/Programs/Python/Python39/lib/site-packages/librosa/util/decorators.py?line=89'>90</a>\u001b[0m \u001b[39m# extra_args > 0\u001b[39;00m\n\u001b[0;32m     <a href='file:///c%3A/Users/Jason/AppData/Local/Programs/Python/Python39/lib/site-packages/librosa/util/decorators.py?line=90'>91</a>\u001b[0m args_msg \u001b[39m=\u001b[39m [\n\u001b[0;32m     <a href='file:///c%3A/Users/Jason/AppData/Local/Programs/Python/Python39/lib/site-packages/librosa/util/decorators.py?line=91'>92</a>\u001b[0m     \u001b[39m\"\u001b[39m\u001b[39m{}\u001b[39;00m\u001b[39m=\u001b[39m\u001b[39m{}\u001b[39;00m\u001b[39m\"\u001b[39m\u001b[39m.\u001b[39mformat(name, arg)\n\u001b[0;32m     <a href='file:///c%3A/Users/Jason/AppData/Local/Programs/Python/Python39/lib/site-packages/librosa/util/decorators.py?line=92'>93</a>\u001b[0m     \u001b[39mfor\u001b[39;00m name, arg \u001b[39min\u001b[39;00m \u001b[39mzip\u001b[39m(kwonly_args[:extra_args], args[\u001b[39m-\u001b[39mextra_args:])\n\u001b[0;32m     <a href='file:///c%3A/Users/Jason/AppData/Local/Programs/Python/Python39/lib/site-packages/librosa/util/decorators.py?line=93'>94</a>\u001b[0m ]\n",
      "File \u001b[1;32m~\\AppData\\Local\\Programs\\Python\\Python39\\lib\\site-packages\\librosa\\core\\audio.py:183\u001b[0m, in \u001b[0;36mload\u001b[1;34m(path, sr, mono, offset, duration, dtype, res_type)\u001b[0m\n\u001b[0;32m    <a href='file:///c%3A/Users/Jason/AppData/Local/Programs/Python/Python39/lib/site-packages/librosa/core/audio.py?line=179'>180</a>\u001b[0m     y \u001b[39m=\u001b[39m to_mono(y)\n\u001b[0;32m    <a href='file:///c%3A/Users/Jason/AppData/Local/Programs/Python/Python39/lib/site-packages/librosa/core/audio.py?line=181'>182</a>\u001b[0m \u001b[39mif\u001b[39;00m sr \u001b[39mis\u001b[39;00m \u001b[39mnot\u001b[39;00m \u001b[39mNone\u001b[39;00m:\n\u001b[1;32m--> <a href='file:///c%3A/Users/Jason/AppData/Local/Programs/Python/Python39/lib/site-packages/librosa/core/audio.py?line=182'>183</a>\u001b[0m     y \u001b[39m=\u001b[39m resample(y, orig_sr\u001b[39m=\u001b[39;49msr_native, target_sr\u001b[39m=\u001b[39;49msr, res_type\u001b[39m=\u001b[39;49mres_type)\n\u001b[0;32m    <a href='file:///c%3A/Users/Jason/AppData/Local/Programs/Python/Python39/lib/site-packages/librosa/core/audio.py?line=184'>185</a>\u001b[0m \u001b[39melse\u001b[39;00m:\n\u001b[0;32m    <a href='file:///c%3A/Users/Jason/AppData/Local/Programs/Python/Python39/lib/site-packages/librosa/core/audio.py?line=185'>186</a>\u001b[0m     sr \u001b[39m=\u001b[39m sr_native\n",
      "File \u001b[1;32m~\\AppData\\Local\\Programs\\Python\\Python39\\lib\\site-packages\\librosa\\util\\decorators.py:88\u001b[0m, in \u001b[0;36mdeprecate_positional_args.<locals>._inner_deprecate_positional_args.<locals>.inner_f\u001b[1;34m(*args, **kwargs)\u001b[0m\n\u001b[0;32m     <a href='file:///c%3A/Users/Jason/AppData/Local/Programs/Python/Python39/lib/site-packages/librosa/util/decorators.py?line=85'>86</a>\u001b[0m extra_args \u001b[39m=\u001b[39m \u001b[39mlen\u001b[39m(args) \u001b[39m-\u001b[39m \u001b[39mlen\u001b[39m(all_args)\n\u001b[0;32m     <a href='file:///c%3A/Users/Jason/AppData/Local/Programs/Python/Python39/lib/site-packages/librosa/util/decorators.py?line=86'>87</a>\u001b[0m \u001b[39mif\u001b[39;00m extra_args \u001b[39m<\u001b[39m\u001b[39m=\u001b[39m \u001b[39m0\u001b[39m:\n\u001b[1;32m---> <a href='file:///c%3A/Users/Jason/AppData/Local/Programs/Python/Python39/lib/site-packages/librosa/util/decorators.py?line=87'>88</a>\u001b[0m     \u001b[39mreturn\u001b[39;00m f(\u001b[39m*\u001b[39margs, \u001b[39m*\u001b[39m\u001b[39m*\u001b[39mkwargs)\n\u001b[0;32m     <a href='file:///c%3A/Users/Jason/AppData/Local/Programs/Python/Python39/lib/site-packages/librosa/util/decorators.py?line=89'>90</a>\u001b[0m \u001b[39m# extra_args > 0\u001b[39;00m\n\u001b[0;32m     <a href='file:///c%3A/Users/Jason/AppData/Local/Programs/Python/Python39/lib/site-packages/librosa/util/decorators.py?line=90'>91</a>\u001b[0m args_msg \u001b[39m=\u001b[39m [\n\u001b[0;32m     <a href='file:///c%3A/Users/Jason/AppData/Local/Programs/Python/Python39/lib/site-packages/librosa/util/decorators.py?line=91'>92</a>\u001b[0m     \u001b[39m\"\u001b[39m\u001b[39m{}\u001b[39;00m\u001b[39m=\u001b[39m\u001b[39m{}\u001b[39;00m\u001b[39m\"\u001b[39m\u001b[39m.\u001b[39mformat(name, arg)\n\u001b[0;32m     <a href='file:///c%3A/Users/Jason/AppData/Local/Programs/Python/Python39/lib/site-packages/librosa/util/decorators.py?line=92'>93</a>\u001b[0m     \u001b[39mfor\u001b[39;00m name, arg \u001b[39min\u001b[39;00m \u001b[39mzip\u001b[39m(kwonly_args[:extra_args], args[\u001b[39m-\u001b[39mextra_args:])\n\u001b[0;32m     <a href='file:///c%3A/Users/Jason/AppData/Local/Programs/Python/Python39/lib/site-packages/librosa/util/decorators.py?line=93'>94</a>\u001b[0m ]\n",
      "File \u001b[1;32m~\\AppData\\Local\\Programs\\Python\\Python39\\lib\\site-packages\\librosa\\core\\audio.py:617\u001b[0m, in \u001b[0;36mresample\u001b[1;34m(y, orig_sr, target_sr, res_type, fix, scale, **kwargs)\u001b[0m\n\u001b[0;32m    <a href='file:///c%3A/Users/Jason/AppData/Local/Programs/Python/Python39/lib/site-packages/librosa/core/audio.py?line=614'>615</a>\u001b[0m     y_hat \u001b[39m=\u001b[39m soxr\u001b[39m.\u001b[39mresample(y\u001b[39m.\u001b[39mT, orig_sr, target_sr, quality\u001b[39m=\u001b[39mres_type)\u001b[39m.\u001b[39mT\n\u001b[0;32m    <a href='file:///c%3A/Users/Jason/AppData/Local/Programs/Python/Python39/lib/site-packages/librosa/core/audio.py?line=615'>616</a>\u001b[0m \u001b[39melse\u001b[39;00m:\n\u001b[1;32m--> <a href='file:///c%3A/Users/Jason/AppData/Local/Programs/Python/Python39/lib/site-packages/librosa/core/audio.py?line=616'>617</a>\u001b[0m     y_hat \u001b[39m=\u001b[39m resampy\u001b[39m.\u001b[39;49mresample(y, orig_sr, target_sr, \u001b[39mfilter\u001b[39;49m\u001b[39m=\u001b[39;49mres_type, axis\u001b[39m=\u001b[39;49m\u001b[39m-\u001b[39;49m\u001b[39m1\u001b[39;49m)\n\u001b[0;32m    <a href='file:///c%3A/Users/Jason/AppData/Local/Programs/Python/Python39/lib/site-packages/librosa/core/audio.py?line=618'>619</a>\u001b[0m \u001b[39mif\u001b[39;00m fix:\n\u001b[0;32m    <a href='file:///c%3A/Users/Jason/AppData/Local/Programs/Python/Python39/lib/site-packages/librosa/core/audio.py?line=619'>620</a>\u001b[0m     y_hat \u001b[39m=\u001b[39m util\u001b[39m.\u001b[39mfix_length(y_hat, size\u001b[39m=\u001b[39mn_samples, \u001b[39m*\u001b[39m\u001b[39m*\u001b[39mkwargs)\n",
      "File \u001b[1;32m~\\AppData\\Local\\Programs\\Python\\Python39\\lib\\site-packages\\resampy\\core.py:120\u001b[0m, in \u001b[0;36mresample\u001b[1;34m(x, sr_orig, sr_new, axis, filter, **kwargs)\u001b[0m\n\u001b[0;32m    <a href='file:///c%3A/Users/Jason/AppData/Local/Programs/Python/Python39/lib/site-packages/resampy/core.py?line=117'>118</a>\u001b[0m x_2d \u001b[39m=\u001b[39m x\u001b[39m.\u001b[39mswapaxes(\u001b[39m0\u001b[39m, axis)\u001b[39m.\u001b[39mreshape((x\u001b[39m.\u001b[39mshape[axis], \u001b[39m-\u001b[39m\u001b[39m1\u001b[39m))\n\u001b[0;32m    <a href='file:///c%3A/Users/Jason/AppData/Local/Programs/Python/Python39/lib/site-packages/resampy/core.py?line=118'>119</a>\u001b[0m y_2d \u001b[39m=\u001b[39m y\u001b[39m.\u001b[39mswapaxes(\u001b[39m0\u001b[39m, axis)\u001b[39m.\u001b[39mreshape((y\u001b[39m.\u001b[39mshape[axis], \u001b[39m-\u001b[39m\u001b[39m1\u001b[39m))\n\u001b[1;32m--> <a href='file:///c%3A/Users/Jason/AppData/Local/Programs/Python/Python39/lib/site-packages/resampy/core.py?line=119'>120</a>\u001b[0m resample_f(x_2d, y_2d, sample_ratio, interp_win, interp_delta, precision)\n\u001b[0;32m    <a href='file:///c%3A/Users/Jason/AppData/Local/Programs/Python/Python39/lib/site-packages/resampy/core.py?line=121'>122</a>\u001b[0m \u001b[39mreturn\u001b[39;00m y\n",
      "\u001b[1;31mKeyboardInterrupt\u001b[0m: "
     ]
    }
   ],
   "source": [
    "def zip_label_wav():\n",
    "    reg_dir = os.getcwd() + '/Model_Data/songs/vocal_reg/'\n",
    "    iso_dir = os.getcwd() + '/Model_Data/songs/vocal_iso/'\n",
    "    label_dir = os.getcwd() + '/Model_Data/lyrics/'\n",
    "    reg_wav_list = []\n",
    "    iso_wav_list = []\n",
    "    label_list = []\n",
    "    # .label file\n",
    "    for filename in os.scandir(reg_dir):\n",
    "        with open(label_dir + filename.name.split('.')[0] + '.label', 'r') as r:\n",
    "            line = r.readline()\n",
    "            label_list.append(str(line).split(' '))\n",
    "        r.close()\n",
    "    label_torch = torch.from_numpy(np.array(label_list, dtype=np.float32))\n",
    "    print(label_torch.size())\n",
    "    # .wav file\n",
    "    for filename in os.scandir(reg_dir):\n",
    "        print(\"Loading file:\", filename.name)\n",
    "        reg_wav, reg_sr = librosa.load(filename.path, duration=120)\n",
    "        iso_wav, iso_sr = librosa.load(iso_dir + filename.name, duration=120)\n",
    "        reg_wav_list.append((reg_wav, reg_sr))\n",
    "        iso_wav_list.append((iso_wav, iso_sr))\n",
    "    \n",
    "    return label_torch, reg_wav_list, iso_wav_list\n",
    "\n",
    "label_torch, reg_wav_list, iso_wav_list = zip_label_wav()"
   ]
  },
  {
   "cell_type": "markdown",
   "metadata": {},
   "source": [
    "# Note for Andy\n",
    "\n",
    "for label_torch, the size is (38, 120)\n",
    "if you need [1, 120] tensor each time, just do\n",
    "label_torch[i].unsqueeze(0)"
   ]
  }
 ],
 "metadata": {
  "interpreter": {
   "hash": "52469ae204d1d50c448c04334a11ed7bbfc3a11760631521f4bdc0e8f20089d8"
  },
  "kernelspec": {
   "display_name": "Python 3.9.10 64-bit",
   "language": "python",
   "name": "python3"
  },
  "language_info": {
   "codemirror_mode": {
    "name": "ipython",
    "version": 3
   },
   "file_extension": ".py",
   "mimetype": "text/x-python",
   "name": "python",
   "nbconvert_exporter": "python",
   "pygments_lexer": "ipython3",
   "version": "3.9.10"
  },
  "orig_nbformat": 4
 },
 "nbformat": 4,
 "nbformat_minor": 2
}

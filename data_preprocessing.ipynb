{
 "cells": [
  {
   "cell_type": "code",
   "execution_count": 10,
   "metadata": {},
   "outputs": [],
   "source": [
    "import glob\n",
    "import os\n",
    "import re\n",
    "\n",
    "import librosa\n",
    "import torch\n",
    "import numpy as np\n",
    "\n",
    "SEC_PER_MIN = 60"
   ]
  },
  {
   "cell_type": "markdown",
   "metadata": {},
   "source": [
    "# Generating Lyric Label\n",
    "Author: Jason Xu\n",
    "\n",
    "    :format: name.label"
   ]
  },
  {
   "cell_type": "code",
   "execution_count": 19,
   "metadata": {},
   "outputs": [],
   "source": [
    "def generate_lyrics_label():\n",
    "    for filename in glob.glob(os.path.join(os.getcwd() + '\\Model_Data\\train\\lyrics', '*.txt')):\n",
    "        print(filename)\n",
    "        with open(filename, 'r') as r:\n",
    "            lines = r.readlines()\n",
    "            label_list = [0] * 2 * SEC_PER_MIN \n",
    "            for line in lines:\n",
    "                timestamp = re.split(r'\\[|\\]', line)[1]\n",
    "                time = re.split(r'[.:]', timestamp)\n",
    "                # time format: [min, sec, minisec]\n",
    "                if int(time[0]) < 2:\n",
    "                    sec = int(time[1]) + int(time[0]) * SEC_PER_MIN \n",
    "                    label_list[sec] = 1\n",
    "            with open(filename.split('.')[0] + \".label\", 'w') as w:\n",
    "                w.write(' '.join(str(s) for s in label_list))\n",
    "                w.close()\n",
    "        r.close()\n",
    "\n",
    "generate_lyrics_label()"
   ]
  },
  {
   "cell_type": "markdown",
   "metadata": {},
   "source": [
    "# Zip .wav file with labels\n",
    "Author: Jason Xu\n",
    "    \n",
    "    :output: \n",
    "        label_torch (tensor of lyric label)\n",
    "        reg_wav_list (wav, sr) from librosa load\n",
    "        iso_wav_list (wav, sr) from librosa load         "
   ]
  },
  {
   "cell_type": "code",
   "execution_count": 20,
   "metadata": {},
   "outputs": [
    {
     "ename": "FileNotFoundError",
     "evalue": "[WinError 3] The system cannot find the path specified: 'c:\\\\Users\\\\Jason\\\\Documents\\\\GitHub\\\\Lyric-Timestamp-Auto-Generator/Model_Data/songs/vocal_reg/'",
     "output_type": "error",
     "traceback": [
      "\u001b[1;31m---------------------------------------------------------------------------\u001b[0m",
      "\u001b[1;31mFileNotFoundError\u001b[0m                         Traceback (most recent call last)",
      "\u001b[1;32mc:\\Users\\Jason\\Documents\\GitHub\\Lyric-Timestamp-Auto-Generator\\data_preprocessing.ipynb Cell 5'\u001b[0m in \u001b[0;36m<cell line: 26>\u001b[1;34m()\u001b[0m\n\u001b[0;32m     <a href='vscode-notebook-cell:/c%3A/Users/Jason/Documents/GitHub/Lyric-Timestamp-Auto-Generator/data_preprocessing.ipynb#ch0000004?line=21'>22</a>\u001b[0m         iso_wav_list\u001b[39m.\u001b[39mappend((iso_wav, iso_sr))\n\u001b[0;32m     <a href='vscode-notebook-cell:/c%3A/Users/Jason/Documents/GitHub/Lyric-Timestamp-Auto-Generator/data_preprocessing.ipynb#ch0000004?line=23'>24</a>\u001b[0m     \u001b[39mreturn\u001b[39;00m label_torch, reg_wav_list, iso_wav_list\n\u001b[1;32m---> <a href='vscode-notebook-cell:/c%3A/Users/Jason/Documents/GitHub/Lyric-Timestamp-Auto-Generator/data_preprocessing.ipynb#ch0000004?line=25'>26</a>\u001b[0m label_torch, reg_wav_list, iso_wav_list \u001b[39m=\u001b[39m zip_label_wav()\n",
      "\u001b[1;32mc:\\Users\\Jason\\Documents\\GitHub\\Lyric-Timestamp-Auto-Generator\\data_preprocessing.ipynb Cell 5'\u001b[0m in \u001b[0;36mzip_label_wav\u001b[1;34m()\u001b[0m\n\u001b[0;32m      <a href='vscode-notebook-cell:/c%3A/Users/Jason/Documents/GitHub/Lyric-Timestamp-Auto-Generator/data_preprocessing.ipynb#ch0000004?line=6'>7</a>\u001b[0m label_list \u001b[39m=\u001b[39m []\n\u001b[0;32m      <a href='vscode-notebook-cell:/c%3A/Users/Jason/Documents/GitHub/Lyric-Timestamp-Auto-Generator/data_preprocessing.ipynb#ch0000004?line=7'>8</a>\u001b[0m \u001b[39m# .label file\u001b[39;00m\n\u001b[1;32m----> <a href='vscode-notebook-cell:/c%3A/Users/Jason/Documents/GitHub/Lyric-Timestamp-Auto-Generator/data_preprocessing.ipynb#ch0000004?line=8'>9</a>\u001b[0m \u001b[39mfor\u001b[39;00m filename \u001b[39min\u001b[39;00m os\u001b[39m.\u001b[39;49mscandir(reg_dir):\n\u001b[0;32m     <a href='vscode-notebook-cell:/c%3A/Users/Jason/Documents/GitHub/Lyric-Timestamp-Auto-Generator/data_preprocessing.ipynb#ch0000004?line=9'>10</a>\u001b[0m     \u001b[39mwith\u001b[39;00m \u001b[39mopen\u001b[39m(label_dir \u001b[39m+\u001b[39m filename\u001b[39m.\u001b[39mname\u001b[39m.\u001b[39msplit(\u001b[39m'\u001b[39m\u001b[39m.\u001b[39m\u001b[39m'\u001b[39m)[\u001b[39m0\u001b[39m] \u001b[39m+\u001b[39m \u001b[39m'\u001b[39m\u001b[39m.label\u001b[39m\u001b[39m'\u001b[39m, \u001b[39m'\u001b[39m\u001b[39mr\u001b[39m\u001b[39m'\u001b[39m) \u001b[39mas\u001b[39;00m r:\n\u001b[0;32m     <a href='vscode-notebook-cell:/c%3A/Users/Jason/Documents/GitHub/Lyric-Timestamp-Auto-Generator/data_preprocessing.ipynb#ch0000004?line=10'>11</a>\u001b[0m         line \u001b[39m=\u001b[39m r\u001b[39m.\u001b[39mreadline()\n",
      "\u001b[1;31mFileNotFoundError\u001b[0m: [WinError 3] The system cannot find the path specified: 'c:\\\\Users\\\\Jason\\\\Documents\\\\GitHub\\\\Lyric-Timestamp-Auto-Generator/Model_Data/songs/vocal_reg/'"
     ]
    }
   ],
   "source": [
    "def zip_label_wav():\n",
    "    reg_dir = os.getcwd() + '/Model_Data/train/songs/vocal_reg/'\n",
    "    iso_dir = os.getcwd() + '/Model_Data/train/songs/vocal_iso/'\n",
    "    label_dir = os.getcwd() + '/Model_Data/train/lyrics/'\n",
    "    reg_wav_list = []\n",
    "    iso_wav_list = []\n",
    "    label_list = []\n",
    "    # .label file\n",
    "    for filename in os.scandir(reg_dir):\n",
    "        with open(label_dir + filename.name.split('.')[0] + '.label', 'r') as r:\n",
    "            line = r.readline()\n",
    "            label_list.append(str(line).split(' '))\n",
    "        r.close()\n",
    "    label_torch = torch.from_numpy(np.array(label_list, dtype=np.float32))\n",
    "    print(label_torch.size())\n",
    "    # .wav file\n",
    "    for filename in os.scandir(reg_dir):\n",
    "        print(\"Loading file:\", filename.name)\n",
    "        reg_wav, reg_sr = librosa.load(filename.path, duration=120)\n",
    "        iso_wav, iso_sr = librosa.load(iso_dir + filename.name, duration=120)\n",
    "        reg_wav_list.append((reg_wav, reg_sr))\n",
    "        iso_wav_list.append((iso_wav, iso_sr))\n",
    "    \n",
    "    return label_torch, reg_wav_list, iso_wav_list\n",
    "\n",
    "label_torch, reg_wav_list, iso_wav_list = zip_label_wav()"
   ]
  },
  {
   "cell_type": "markdown",
   "metadata": {},
   "source": [
    "# Model \n",
    "\n",
    "Author: Andy Barbaro (main part), Jason Xu(prediction and eval)\n"
   ]
  },
  {
   "cell_type": "code",
   "execution_count": null,
   "metadata": {},
   "outputs": [
    {
     "name": "stdout",
     "output_type": "stream",
     "text": [
      "120\n",
      "120\n",
      "120\n",
      "120\n",
      "120\n",
      "120\n",
      "120\n"
     ]
    },
    {
     "ename": "KeyboardInterrupt",
     "evalue": "",
     "output_type": "error",
     "traceback": [
      "\u001b[1;31m---------------------------------------------------------------------------\u001b[0m",
      "\u001b[1;31mKeyboardInterrupt\u001b[0m                         Traceback (most recent call last)",
      "\u001b[1;32mc:\\Users\\Jason\\Documents\\GitHub\\Lyric-Timestamp-Auto-Generator\\data_preprocessing.ipynb Cell 7'\u001b[0m in \u001b[0;36m<cell line: 33>\u001b[1;34m()\u001b[0m\n\u001b[0;32m     <a href='vscode-notebook-cell:/c%3A/Users/Jason/Documents/GitHub/Lyric-Timestamp-Auto-Generator/data_preprocessing.ipynb#ch0000006?line=60'>61</a>\u001b[0m song \u001b[39m=\u001b[39m song_sr[\u001b[39m0\u001b[39m]\n\u001b[0;32m     <a href='vscode-notebook-cell:/c%3A/Users/Jason/Documents/GitHub/Lyric-Timestamp-Auto-Generator/data_preprocessing.ipynb#ch0000006?line=61'>62</a>\u001b[0m \u001b[39m# sample window of 2048 and hop size of 512 samples\u001b[39;00m\n\u001b[1;32m---> <a href='vscode-notebook-cell:/c%3A/Users/Jason/Documents/GitHub/Lyric-Timestamp-Auto-Generator/data_preprocessing.ipynb#ch0000006?line=62'>63</a>\u001b[0m mfccs \u001b[39m=\u001b[39m librosa\u001b[39m.\u001b[39;49mfeature\u001b[39m.\u001b[39;49mmfcc(y\u001b[39m=\u001b[39;49msong, n_mfcc\u001b[39m=\u001b[39;49mnum_mfccs) \u001b[39m#(num_mfccs, 5168)\u001b[39;00m\n\u001b[0;32m     <a href='vscode-notebook-cell:/c%3A/Users/Jason/Documents/GitHub/Lyric-Timestamp-Auto-Generator/data_preprocessing.ipynb#ch0000006?line=64'>65</a>\u001b[0m \u001b[39m#breaks down mfccs into their time intervals\u001b[39;00m\n\u001b[0;32m     <a href='vscode-notebook-cell:/c%3A/Users/Jason/Documents/GitHub/Lyric-Timestamp-Auto-Generator/data_preprocessing.ipynb#ch0000006?line=65'>66</a>\u001b[0m audio_length \u001b[39m=\u001b[39m \u001b[39mlen\u001b[39m(song) \u001b[39m/\u001b[39m sr \u001b[39m# in seconds\u001b[39;00m\n",
      "File \u001b[1;32m~\\AppData\\Local\\Programs\\Python\\Python39\\lib\\site-packages\\librosa\\util\\decorators.py:88\u001b[0m, in \u001b[0;36mdeprecate_positional_args.<locals>._inner_deprecate_positional_args.<locals>.inner_f\u001b[1;34m(*args, **kwargs)\u001b[0m\n\u001b[0;32m     <a href='file:///c%3A/Users/Jason/AppData/Local/Programs/Python/Python39/lib/site-packages/librosa/util/decorators.py?line=85'>86</a>\u001b[0m extra_args \u001b[39m=\u001b[39m \u001b[39mlen\u001b[39m(args) \u001b[39m-\u001b[39m \u001b[39mlen\u001b[39m(all_args)\n\u001b[0;32m     <a href='file:///c%3A/Users/Jason/AppData/Local/Programs/Python/Python39/lib/site-packages/librosa/util/decorators.py?line=86'>87</a>\u001b[0m \u001b[39mif\u001b[39;00m extra_args \u001b[39m<\u001b[39m\u001b[39m=\u001b[39m \u001b[39m0\u001b[39m:\n\u001b[1;32m---> <a href='file:///c%3A/Users/Jason/AppData/Local/Programs/Python/Python39/lib/site-packages/librosa/util/decorators.py?line=87'>88</a>\u001b[0m     \u001b[39mreturn\u001b[39;00m f(\u001b[39m*\u001b[39margs, \u001b[39m*\u001b[39m\u001b[39m*\u001b[39mkwargs)\n\u001b[0;32m     <a href='file:///c%3A/Users/Jason/AppData/Local/Programs/Python/Python39/lib/site-packages/librosa/util/decorators.py?line=89'>90</a>\u001b[0m \u001b[39m# extra_args > 0\u001b[39;00m\n\u001b[0;32m     <a href='file:///c%3A/Users/Jason/AppData/Local/Programs/Python/Python39/lib/site-packages/librosa/util/decorators.py?line=90'>91</a>\u001b[0m args_msg \u001b[39m=\u001b[39m [\n\u001b[0;32m     <a href='file:///c%3A/Users/Jason/AppData/Local/Programs/Python/Python39/lib/site-packages/librosa/util/decorators.py?line=91'>92</a>\u001b[0m     \u001b[39m\"\u001b[39m\u001b[39m{}\u001b[39;00m\u001b[39m=\u001b[39m\u001b[39m{}\u001b[39;00m\u001b[39m\"\u001b[39m\u001b[39m.\u001b[39mformat(name, arg)\n\u001b[0;32m     <a href='file:///c%3A/Users/Jason/AppData/Local/Programs/Python/Python39/lib/site-packages/librosa/util/decorators.py?line=92'>93</a>\u001b[0m     \u001b[39mfor\u001b[39;00m name, arg \u001b[39min\u001b[39;00m \u001b[39mzip\u001b[39m(kwonly_args[:extra_args], args[\u001b[39m-\u001b[39mextra_args:])\n\u001b[0;32m     <a href='file:///c%3A/Users/Jason/AppData/Local/Programs/Python/Python39/lib/site-packages/librosa/util/decorators.py?line=93'>94</a>\u001b[0m ]\n",
      "File \u001b[1;32m~\\AppData\\Local\\Programs\\Python\\Python39\\lib\\site-packages\\librosa\\feature\\spectral.py:1903\u001b[0m, in \u001b[0;36mmfcc\u001b[1;34m(y, sr, S, n_mfcc, dct_type, norm, lifter, **kwargs)\u001b[0m\n\u001b[0;32m   <a href='file:///c%3A/Users/Jason/AppData/Local/Programs/Python/Python39/lib/site-packages/librosa/feature/spectral.py?line=1783'>1784</a>\u001b[0m \u001b[39m\"\"\"Mel-frequency cepstral coefficients (MFCCs)\u001b[39;00m\n\u001b[0;32m   <a href='file:///c%3A/Users/Jason/AppData/Local/Programs/Python/Python39/lib/site-packages/librosa/feature/spectral.py?line=1784'>1785</a>\u001b[0m \n\u001b[0;32m   <a href='file:///c%3A/Users/Jason/AppData/Local/Programs/Python/Python39/lib/site-packages/librosa/feature/spectral.py?line=1785'>1786</a>\u001b[0m \u001b[39m.. warning:: If multi-channel audio input ``y`` is provided, the MFCC\u001b[39;00m\n\u001b[1;32m   (...)\u001b[0m\n\u001b[0;32m   <a href='file:///c%3A/Users/Jason/AppData/Local/Programs/Python/Python39/lib/site-packages/librosa/feature/spectral.py?line=1897'>1898</a>\u001b[0m \u001b[39m>>> fig.colorbar(img2, ax=[ax[1]])\u001b[39;00m\n\u001b[0;32m   <a href='file:///c%3A/Users/Jason/AppData/Local/Programs/Python/Python39/lib/site-packages/librosa/feature/spectral.py?line=1898'>1899</a>\u001b[0m \u001b[39m\"\"\"\u001b[39;00m\n\u001b[0;32m   <a href='file:///c%3A/Users/Jason/AppData/Local/Programs/Python/Python39/lib/site-packages/librosa/feature/spectral.py?line=1900'>1901</a>\u001b[0m \u001b[39mif\u001b[39;00m S \u001b[39mis\u001b[39;00m \u001b[39mNone\u001b[39;00m:\n\u001b[0;32m   <a href='file:///c%3A/Users/Jason/AppData/Local/Programs/Python/Python39/lib/site-packages/librosa/feature/spectral.py?line=1901'>1902</a>\u001b[0m     \u001b[39m# multichannel behavior may be different due to relative noise floor differences between channels\u001b[39;00m\n\u001b[1;32m-> <a href='file:///c%3A/Users/Jason/AppData/Local/Programs/Python/Python39/lib/site-packages/librosa/feature/spectral.py?line=1902'>1903</a>\u001b[0m     S \u001b[39m=\u001b[39m power_to_db(melspectrogram(y\u001b[39m=\u001b[39my, sr\u001b[39m=\u001b[39msr, \u001b[39m*\u001b[39m\u001b[39m*\u001b[39mkwargs))\n\u001b[0;32m   <a href='file:///c%3A/Users/Jason/AppData/Local/Programs/Python/Python39/lib/site-packages/librosa/feature/spectral.py?line=1904'>1905</a>\u001b[0m M \u001b[39m=\u001b[39m scipy\u001b[39m.\u001b[39mfftpack\u001b[39m.\u001b[39mdct(S, axis\u001b[39m=\u001b[39m\u001b[39m-\u001b[39m\u001b[39m2\u001b[39m, \u001b[39mtype\u001b[39m\u001b[39m=\u001b[39mdct_type, norm\u001b[39m=\u001b[39mnorm)[\u001b[39m.\u001b[39m\u001b[39m.\u001b[39m\u001b[39m.\u001b[39m, :n_mfcc, :]\n\u001b[0;32m   <a href='file:///c%3A/Users/Jason/AppData/Local/Programs/Python/Python39/lib/site-packages/librosa/feature/spectral.py?line=1906'>1907</a>\u001b[0m \u001b[39mif\u001b[39;00m lifter \u001b[39m>\u001b[39m \u001b[39m0\u001b[39m:\n\u001b[0;32m   <a href='file:///c%3A/Users/Jason/AppData/Local/Programs/Python/Python39/lib/site-packages/librosa/feature/spectral.py?line=1907'>1908</a>\u001b[0m     \u001b[39m# shape lifter for broadcasting\u001b[39;00m\n",
      "File \u001b[1;32m~\\AppData\\Local\\Programs\\Python\\Python39\\lib\\site-packages\\librosa\\util\\decorators.py:88\u001b[0m, in \u001b[0;36mdeprecate_positional_args.<locals>._inner_deprecate_positional_args.<locals>.inner_f\u001b[1;34m(*args, **kwargs)\u001b[0m\n\u001b[0;32m     <a href='file:///c%3A/Users/Jason/AppData/Local/Programs/Python/Python39/lib/site-packages/librosa/util/decorators.py?line=85'>86</a>\u001b[0m extra_args \u001b[39m=\u001b[39m \u001b[39mlen\u001b[39m(args) \u001b[39m-\u001b[39m \u001b[39mlen\u001b[39m(all_args)\n\u001b[0;32m     <a href='file:///c%3A/Users/Jason/AppData/Local/Programs/Python/Python39/lib/site-packages/librosa/util/decorators.py?line=86'>87</a>\u001b[0m \u001b[39mif\u001b[39;00m extra_args \u001b[39m<\u001b[39m\u001b[39m=\u001b[39m \u001b[39m0\u001b[39m:\n\u001b[1;32m---> <a href='file:///c%3A/Users/Jason/AppData/Local/Programs/Python/Python39/lib/site-packages/librosa/util/decorators.py?line=87'>88</a>\u001b[0m     \u001b[39mreturn\u001b[39;00m f(\u001b[39m*\u001b[39margs, \u001b[39m*\u001b[39m\u001b[39m*\u001b[39mkwargs)\n\u001b[0;32m     <a href='file:///c%3A/Users/Jason/AppData/Local/Programs/Python/Python39/lib/site-packages/librosa/util/decorators.py?line=89'>90</a>\u001b[0m \u001b[39m# extra_args > 0\u001b[39;00m\n\u001b[0;32m     <a href='file:///c%3A/Users/Jason/AppData/Local/Programs/Python/Python39/lib/site-packages/librosa/util/decorators.py?line=90'>91</a>\u001b[0m args_msg \u001b[39m=\u001b[39m [\n\u001b[0;32m     <a href='file:///c%3A/Users/Jason/AppData/Local/Programs/Python/Python39/lib/site-packages/librosa/util/decorators.py?line=91'>92</a>\u001b[0m     \u001b[39m\"\u001b[39m\u001b[39m{}\u001b[39;00m\u001b[39m=\u001b[39m\u001b[39m{}\u001b[39;00m\u001b[39m\"\u001b[39m\u001b[39m.\u001b[39mformat(name, arg)\n\u001b[0;32m     <a href='file:///c%3A/Users/Jason/AppData/Local/Programs/Python/Python39/lib/site-packages/librosa/util/decorators.py?line=92'>93</a>\u001b[0m     \u001b[39mfor\u001b[39;00m name, arg \u001b[39min\u001b[39;00m \u001b[39mzip\u001b[39m(kwonly_args[:extra_args], args[\u001b[39m-\u001b[39mextra_args:])\n\u001b[0;32m     <a href='file:///c%3A/Users/Jason/AppData/Local/Programs/Python/Python39/lib/site-packages/librosa/util/decorators.py?line=93'>94</a>\u001b[0m ]\n",
      "File \u001b[1;32m~\\AppData\\Local\\Programs\\Python\\Python39\\lib\\site-packages\\librosa\\feature\\spectral.py:2043\u001b[0m, in \u001b[0;36mmelspectrogram\u001b[1;34m(y, sr, S, n_fft, hop_length, win_length, window, center, pad_mode, power, **kwargs)\u001b[0m\n\u001b[0;32m   <a href='file:///c%3A/Users/Jason/AppData/Local/Programs/Python/Python39/lib/site-packages/librosa/feature/spectral.py?line=1921'>1922</a>\u001b[0m \u001b[39m@deprecate_positional_args\u001b[39m\n\u001b[0;32m   <a href='file:///c%3A/Users/Jason/AppData/Local/Programs/Python/Python39/lib/site-packages/librosa/feature/spectral.py?line=1922'>1923</a>\u001b[0m \u001b[39mdef\u001b[39;00m \u001b[39mmelspectrogram\u001b[39m(\n\u001b[0;32m   <a href='file:///c%3A/Users/Jason/AppData/Local/Programs/Python/Python39/lib/site-packages/librosa/feature/spectral.py?line=1923'>1924</a>\u001b[0m     \u001b[39m*\u001b[39m,\n\u001b[1;32m   (...)\u001b[0m\n\u001b[0;32m   <a href='file:///c%3A/Users/Jason/AppData/Local/Programs/Python/Python39/lib/site-packages/librosa/feature/spectral.py?line=1934'>1935</a>\u001b[0m     \u001b[39m*\u001b[39m\u001b[39m*\u001b[39mkwargs,\n\u001b[0;32m   <a href='file:///c%3A/Users/Jason/AppData/Local/Programs/Python/Python39/lib/site-packages/librosa/feature/spectral.py?line=1935'>1936</a>\u001b[0m ):\n\u001b[0;32m   <a href='file:///c%3A/Users/Jason/AppData/Local/Programs/Python/Python39/lib/site-packages/librosa/feature/spectral.py?line=1936'>1937</a>\u001b[0m     \u001b[39m\"\"\"Compute a mel-scaled spectrogram.\u001b[39;00m\n\u001b[0;32m   <a href='file:///c%3A/Users/Jason/AppData/Local/Programs/Python/Python39/lib/site-packages/librosa/feature/spectral.py?line=1937'>1938</a>\u001b[0m \n\u001b[0;32m   <a href='file:///c%3A/Users/Jason/AppData/Local/Programs/Python/Python39/lib/site-packages/librosa/feature/spectral.py?line=1938'>1939</a>\u001b[0m \u001b[39m    If a spectrogram input ``S`` is provided, then it is mapped directly onto\u001b[39;00m\n\u001b[1;32m   (...)\u001b[0m\n\u001b[0;32m   <a href='file:///c%3A/Users/Jason/AppData/Local/Programs/Python/Python39/lib/site-packages/librosa/feature/spectral.py?line=2039'>2040</a>\u001b[0m \u001b[39m    >>> ax.set(title='Mel-frequency spectrogram')\u001b[39;00m\n\u001b[0;32m   <a href='file:///c%3A/Users/Jason/AppData/Local/Programs/Python/Python39/lib/site-packages/librosa/feature/spectral.py?line=2040'>2041</a>\u001b[0m \u001b[39m    \"\"\"\u001b[39;00m\n\u001b[1;32m-> <a href='file:///c%3A/Users/Jason/AppData/Local/Programs/Python/Python39/lib/site-packages/librosa/feature/spectral.py?line=2042'>2043</a>\u001b[0m     S, n_fft \u001b[39m=\u001b[39m _spectrogram(\n\u001b[0;32m   <a href='file:///c%3A/Users/Jason/AppData/Local/Programs/Python/Python39/lib/site-packages/librosa/feature/spectral.py?line=2043'>2044</a>\u001b[0m         y\u001b[39m=\u001b[39;49my,\n\u001b[0;32m   <a href='file:///c%3A/Users/Jason/AppData/Local/Programs/Python/Python39/lib/site-packages/librosa/feature/spectral.py?line=2044'>2045</a>\u001b[0m         S\u001b[39m=\u001b[39;49mS,\n\u001b[0;32m   <a href='file:///c%3A/Users/Jason/AppData/Local/Programs/Python/Python39/lib/site-packages/librosa/feature/spectral.py?line=2045'>2046</a>\u001b[0m         n_fft\u001b[39m=\u001b[39;49mn_fft,\n\u001b[0;32m   <a href='file:///c%3A/Users/Jason/AppData/Local/Programs/Python/Python39/lib/site-packages/librosa/feature/spectral.py?line=2046'>2047</a>\u001b[0m         hop_length\u001b[39m=\u001b[39;49mhop_length,\n\u001b[0;32m   <a href='file:///c%3A/Users/Jason/AppData/Local/Programs/Python/Python39/lib/site-packages/librosa/feature/spectral.py?line=2047'>2048</a>\u001b[0m         power\u001b[39m=\u001b[39;49mpower,\n\u001b[0;32m   <a href='file:///c%3A/Users/Jason/AppData/Local/Programs/Python/Python39/lib/site-packages/librosa/feature/spectral.py?line=2048'>2049</a>\u001b[0m         win_length\u001b[39m=\u001b[39;49mwin_length,\n\u001b[0;32m   <a href='file:///c%3A/Users/Jason/AppData/Local/Programs/Python/Python39/lib/site-packages/librosa/feature/spectral.py?line=2049'>2050</a>\u001b[0m         window\u001b[39m=\u001b[39;49mwindow,\n\u001b[0;32m   <a href='file:///c%3A/Users/Jason/AppData/Local/Programs/Python/Python39/lib/site-packages/librosa/feature/spectral.py?line=2050'>2051</a>\u001b[0m         center\u001b[39m=\u001b[39;49mcenter,\n\u001b[0;32m   <a href='file:///c%3A/Users/Jason/AppData/Local/Programs/Python/Python39/lib/site-packages/librosa/feature/spectral.py?line=2051'>2052</a>\u001b[0m         pad_mode\u001b[39m=\u001b[39;49mpad_mode,\n\u001b[0;32m   <a href='file:///c%3A/Users/Jason/AppData/Local/Programs/Python/Python39/lib/site-packages/librosa/feature/spectral.py?line=2052'>2053</a>\u001b[0m     )\n\u001b[0;32m   <a href='file:///c%3A/Users/Jason/AppData/Local/Programs/Python/Python39/lib/site-packages/librosa/feature/spectral.py?line=2054'>2055</a>\u001b[0m     \u001b[39m# Build a Mel filter\u001b[39;00m\n\u001b[0;32m   <a href='file:///c%3A/Users/Jason/AppData/Local/Programs/Python/Python39/lib/site-packages/librosa/feature/spectral.py?line=2055'>2056</a>\u001b[0m     mel_basis \u001b[39m=\u001b[39m filters\u001b[39m.\u001b[39mmel(sr\u001b[39m=\u001b[39msr, n_fft\u001b[39m=\u001b[39mn_fft, \u001b[39m*\u001b[39m\u001b[39m*\u001b[39mkwargs)\n",
      "File \u001b[1;32m~\\AppData\\Local\\Programs\\Python\\Python39\\lib\\site-packages\\librosa\\core\\spectrum.py:2553\u001b[0m, in \u001b[0;36m_spectrogram\u001b[1;34m(y, S, n_fft, hop_length, power, win_length, window, center, pad_mode)\u001b[0m\n\u001b[0;32m   <a href='file:///c%3A/Users/Jason/AppData/Local/Programs/Python/Python39/lib/site-packages/librosa/core/spectrum.py?line=2547'>2548</a>\u001b[0m         n_fft \u001b[39m=\u001b[39m \u001b[39m2\u001b[39m \u001b[39m*\u001b[39m (S\u001b[39m.\u001b[39mshape[\u001b[39m-\u001b[39m\u001b[39m2\u001b[39m] \u001b[39m-\u001b[39m \u001b[39m1\u001b[39m)\n\u001b[0;32m   <a href='file:///c%3A/Users/Jason/AppData/Local/Programs/Python/Python39/lib/site-packages/librosa/core/spectrum.py?line=2548'>2549</a>\u001b[0m \u001b[39melse\u001b[39;00m:\n\u001b[0;32m   <a href='file:///c%3A/Users/Jason/AppData/Local/Programs/Python/Python39/lib/site-packages/librosa/core/spectrum.py?line=2549'>2550</a>\u001b[0m     \u001b[39m# Otherwise, compute a magnitude spectrogram from input\u001b[39;00m\n\u001b[0;32m   <a href='file:///c%3A/Users/Jason/AppData/Local/Programs/Python/Python39/lib/site-packages/librosa/core/spectrum.py?line=2550'>2551</a>\u001b[0m     S \u001b[39m=\u001b[39m (\n\u001b[0;32m   <a href='file:///c%3A/Users/Jason/AppData/Local/Programs/Python/Python39/lib/site-packages/librosa/core/spectrum.py?line=2551'>2552</a>\u001b[0m         np\u001b[39m.\u001b[39mabs(\n\u001b[1;32m-> <a href='file:///c%3A/Users/Jason/AppData/Local/Programs/Python/Python39/lib/site-packages/librosa/core/spectrum.py?line=2552'>2553</a>\u001b[0m             stft(\n\u001b[0;32m   <a href='file:///c%3A/Users/Jason/AppData/Local/Programs/Python/Python39/lib/site-packages/librosa/core/spectrum.py?line=2553'>2554</a>\u001b[0m                 y,\n\u001b[0;32m   <a href='file:///c%3A/Users/Jason/AppData/Local/Programs/Python/Python39/lib/site-packages/librosa/core/spectrum.py?line=2554'>2555</a>\u001b[0m                 n_fft\u001b[39m=\u001b[39;49mn_fft,\n\u001b[0;32m   <a href='file:///c%3A/Users/Jason/AppData/Local/Programs/Python/Python39/lib/site-packages/librosa/core/spectrum.py?line=2555'>2556</a>\u001b[0m                 hop_length\u001b[39m=\u001b[39;49mhop_length,\n\u001b[0;32m   <a href='file:///c%3A/Users/Jason/AppData/Local/Programs/Python/Python39/lib/site-packages/librosa/core/spectrum.py?line=2556'>2557</a>\u001b[0m                 win_length\u001b[39m=\u001b[39;49mwin_length,\n\u001b[0;32m   <a href='file:///c%3A/Users/Jason/AppData/Local/Programs/Python/Python39/lib/site-packages/librosa/core/spectrum.py?line=2557'>2558</a>\u001b[0m                 center\u001b[39m=\u001b[39;49mcenter,\n\u001b[0;32m   <a href='file:///c%3A/Users/Jason/AppData/Local/Programs/Python/Python39/lib/site-packages/librosa/core/spectrum.py?line=2558'>2559</a>\u001b[0m                 window\u001b[39m=\u001b[39;49mwindow,\n\u001b[0;32m   <a href='file:///c%3A/Users/Jason/AppData/Local/Programs/Python/Python39/lib/site-packages/librosa/core/spectrum.py?line=2559'>2560</a>\u001b[0m                 pad_mode\u001b[39m=\u001b[39;49mpad_mode,\n\u001b[0;32m   <a href='file:///c%3A/Users/Jason/AppData/Local/Programs/Python/Python39/lib/site-packages/librosa/core/spectrum.py?line=2560'>2561</a>\u001b[0m             )\n\u001b[0;32m   <a href='file:///c%3A/Users/Jason/AppData/Local/Programs/Python/Python39/lib/site-packages/librosa/core/spectrum.py?line=2561'>2562</a>\u001b[0m         )\n\u001b[0;32m   <a href='file:///c%3A/Users/Jason/AppData/Local/Programs/Python/Python39/lib/site-packages/librosa/core/spectrum.py?line=2562'>2563</a>\u001b[0m         \u001b[39m*\u001b[39m\u001b[39m*\u001b[39m power\n\u001b[0;32m   <a href='file:///c%3A/Users/Jason/AppData/Local/Programs/Python/Python39/lib/site-packages/librosa/core/spectrum.py?line=2563'>2564</a>\u001b[0m     )\n\u001b[0;32m   <a href='file:///c%3A/Users/Jason/AppData/Local/Programs/Python/Python39/lib/site-packages/librosa/core/spectrum.py?line=2565'>2566</a>\u001b[0m \u001b[39mreturn\u001b[39;00m S, n_fft\n",
      "File \u001b[1;32m~\\AppData\\Local\\Programs\\Python\\Python39\\lib\\site-packages\\librosa\\util\\decorators.py:88\u001b[0m, in \u001b[0;36mdeprecate_positional_args.<locals>._inner_deprecate_positional_args.<locals>.inner_f\u001b[1;34m(*args, **kwargs)\u001b[0m\n\u001b[0;32m     <a href='file:///c%3A/Users/Jason/AppData/Local/Programs/Python/Python39/lib/site-packages/librosa/util/decorators.py?line=85'>86</a>\u001b[0m extra_args \u001b[39m=\u001b[39m \u001b[39mlen\u001b[39m(args) \u001b[39m-\u001b[39m \u001b[39mlen\u001b[39m(all_args)\n\u001b[0;32m     <a href='file:///c%3A/Users/Jason/AppData/Local/Programs/Python/Python39/lib/site-packages/librosa/util/decorators.py?line=86'>87</a>\u001b[0m \u001b[39mif\u001b[39;00m extra_args \u001b[39m<\u001b[39m\u001b[39m=\u001b[39m \u001b[39m0\u001b[39m:\n\u001b[1;32m---> <a href='file:///c%3A/Users/Jason/AppData/Local/Programs/Python/Python39/lib/site-packages/librosa/util/decorators.py?line=87'>88</a>\u001b[0m     \u001b[39mreturn\u001b[39;00m f(\u001b[39m*\u001b[39margs, \u001b[39m*\u001b[39m\u001b[39m*\u001b[39mkwargs)\n\u001b[0;32m     <a href='file:///c%3A/Users/Jason/AppData/Local/Programs/Python/Python39/lib/site-packages/librosa/util/decorators.py?line=89'>90</a>\u001b[0m \u001b[39m# extra_args > 0\u001b[39;00m\n\u001b[0;32m     <a href='file:///c%3A/Users/Jason/AppData/Local/Programs/Python/Python39/lib/site-packages/librosa/util/decorators.py?line=90'>91</a>\u001b[0m args_msg \u001b[39m=\u001b[39m [\n\u001b[0;32m     <a href='file:///c%3A/Users/Jason/AppData/Local/Programs/Python/Python39/lib/site-packages/librosa/util/decorators.py?line=91'>92</a>\u001b[0m     \u001b[39m\"\u001b[39m\u001b[39m{}\u001b[39;00m\u001b[39m=\u001b[39m\u001b[39m{}\u001b[39;00m\u001b[39m\"\u001b[39m\u001b[39m.\u001b[39mformat(name, arg)\n\u001b[0;32m     <a href='file:///c%3A/Users/Jason/AppData/Local/Programs/Python/Python39/lib/site-packages/librosa/util/decorators.py?line=92'>93</a>\u001b[0m     \u001b[39mfor\u001b[39;00m name, arg \u001b[39min\u001b[39;00m \u001b[39mzip\u001b[39m(kwonly_args[:extra_args], args[\u001b[39m-\u001b[39mextra_args:])\n\u001b[0;32m     <a href='file:///c%3A/Users/Jason/AppData/Local/Programs/Python/Python39/lib/site-packages/librosa/util/decorators.py?line=93'>94</a>\u001b[0m ]\n",
      "File \u001b[1;32m~\\AppData\\Local\\Programs\\Python\\Python39\\lib\\site-packages\\librosa\\core\\spectrum.py:254\u001b[0m, in \u001b[0;36mstft\u001b[1;34m(y, n_fft, hop_length, win_length, window, center, dtype, pad_mode)\u001b[0m\n\u001b[0;32m    <a href='file:///c%3A/Users/Jason/AppData/Local/Programs/Python/Python39/lib/site-packages/librosa/core/spectrum.py?line=250'>251</a>\u001b[0m \u001b[39mfor\u001b[39;00m bl_s \u001b[39min\u001b[39;00m \u001b[39mrange\u001b[39m(\u001b[39m0\u001b[39m, stft_matrix\u001b[39m.\u001b[39mshape[\u001b[39m-\u001b[39m\u001b[39m1\u001b[39m], n_columns):\n\u001b[0;32m    <a href='file:///c%3A/Users/Jason/AppData/Local/Programs/Python/Python39/lib/site-packages/librosa/core/spectrum.py?line=251'>252</a>\u001b[0m     bl_t \u001b[39m=\u001b[39m \u001b[39mmin\u001b[39m(bl_s \u001b[39m+\u001b[39m n_columns, stft_matrix\u001b[39m.\u001b[39mshape[\u001b[39m-\u001b[39m\u001b[39m1\u001b[39m])\n\u001b[1;32m--> <a href='file:///c%3A/Users/Jason/AppData/Local/Programs/Python/Python39/lib/site-packages/librosa/core/spectrum.py?line=253'>254</a>\u001b[0m     stft_matrix[\u001b[39m.\u001b[39m\u001b[39m.\u001b[39m\u001b[39m.\u001b[39m, bl_s:bl_t] \u001b[39m=\u001b[39m fft\u001b[39m.\u001b[39;49mrfft(\n\u001b[0;32m    <a href='file:///c%3A/Users/Jason/AppData/Local/Programs/Python/Python39/lib/site-packages/librosa/core/spectrum.py?line=254'>255</a>\u001b[0m         fft_window \u001b[39m*\u001b[39;49m y_frames[\u001b[39m.\u001b[39;49m\u001b[39m.\u001b[39;49m\u001b[39m.\u001b[39;49m, bl_s:bl_t], axis\u001b[39m=\u001b[39;49m\u001b[39m-\u001b[39;49m\u001b[39m2\u001b[39;49m\n\u001b[0;32m    <a href='file:///c%3A/Users/Jason/AppData/Local/Programs/Python/Python39/lib/site-packages/librosa/core/spectrum.py?line=255'>256</a>\u001b[0m     )\n\u001b[0;32m    <a href='file:///c%3A/Users/Jason/AppData/Local/Programs/Python/Python39/lib/site-packages/librosa/core/spectrum.py?line=256'>257</a>\u001b[0m \u001b[39mreturn\u001b[39;00m stft_matrix\n",
      "File \u001b[1;32m<__array_function__ internals>:5\u001b[0m, in \u001b[0;36mrfft\u001b[1;34m(*args, **kwargs)\u001b[0m\n",
      "File \u001b[1;32m~\\AppData\\Local\\Programs\\Python\\Python39\\lib\\site-packages\\numpy\\fft\\_pocketfft.py:409\u001b[0m, in \u001b[0;36mrfft\u001b[1;34m(a, n, axis, norm)\u001b[0m\n\u001b[0;32m    <a href='file:///c%3A/Users/Jason/AppData/Local/Programs/Python/Python39/lib/site-packages/numpy/fft/_pocketfft.py?line=406'>407</a>\u001b[0m     n \u001b[39m=\u001b[39m a\u001b[39m.\u001b[39mshape[axis]\n\u001b[0;32m    <a href='file:///c%3A/Users/Jason/AppData/Local/Programs/Python/Python39/lib/site-packages/numpy/fft/_pocketfft.py?line=407'>408</a>\u001b[0m inv_norm \u001b[39m=\u001b[39m _get_forward_norm(n, norm)\n\u001b[1;32m--> <a href='file:///c%3A/Users/Jason/AppData/Local/Programs/Python/Python39/lib/site-packages/numpy/fft/_pocketfft.py?line=408'>409</a>\u001b[0m output \u001b[39m=\u001b[39m _raw_fft(a, n, axis, \u001b[39mTrue\u001b[39;49;00m, \u001b[39mTrue\u001b[39;49;00m, inv_norm)\n\u001b[0;32m    <a href='file:///c%3A/Users/Jason/AppData/Local/Programs/Python/Python39/lib/site-packages/numpy/fft/_pocketfft.py?line=409'>410</a>\u001b[0m \u001b[39mreturn\u001b[39;00m output\n",
      "File \u001b[1;32m~\\AppData\\Local\\Programs\\Python\\Python39\\lib\\site-packages\\numpy\\fft\\_pocketfft.py:73\u001b[0m, in \u001b[0;36m_raw_fft\u001b[1;34m(a, n, axis, is_real, is_forward, inv_norm)\u001b[0m\n\u001b[0;32m     <a href='file:///c%3A/Users/Jason/AppData/Local/Programs/Python/Python39/lib/site-packages/numpy/fft/_pocketfft.py?line=70'>71</a>\u001b[0m \u001b[39melse\u001b[39;00m:\n\u001b[0;32m     <a href='file:///c%3A/Users/Jason/AppData/Local/Programs/Python/Python39/lib/site-packages/numpy/fft/_pocketfft.py?line=71'>72</a>\u001b[0m     a \u001b[39m=\u001b[39m swapaxes(a, axis, \u001b[39m-\u001b[39m\u001b[39m1\u001b[39m)\n\u001b[1;32m---> <a href='file:///c%3A/Users/Jason/AppData/Local/Programs/Python/Python39/lib/site-packages/numpy/fft/_pocketfft.py?line=72'>73</a>\u001b[0m     r \u001b[39m=\u001b[39m pfi\u001b[39m.\u001b[39;49mexecute(a, is_real, is_forward, fct)\n\u001b[0;32m     <a href='file:///c%3A/Users/Jason/AppData/Local/Programs/Python/Python39/lib/site-packages/numpy/fft/_pocketfft.py?line=73'>74</a>\u001b[0m     r \u001b[39m=\u001b[39m swapaxes(r, axis, \u001b[39m-\u001b[39m\u001b[39m1\u001b[39m)\n\u001b[0;32m     <a href='file:///c%3A/Users/Jason/AppData/Local/Programs/Python/Python39/lib/site-packages/numpy/fft/_pocketfft.py?line=74'>75</a>\u001b[0m \u001b[39mreturn\u001b[39;00m r\n",
      "\u001b[1;31mKeyboardInterrupt\u001b[0m: "
     ]
    }
   ],
   "source": [
    "# import standard PyTorch modules\n",
    "import torch\n",
    "import torch.nn as nn\n",
    "import torch.nn.functional as F\n",
    "import torch.optim as optim\n",
    "import librosa\n",
    "import numpy as np\n",
    "\n",
    "\n",
    "# Build the neural network for classifying pauses against nonpauses\n",
    "class PauseNet1(nn.Module):\n",
    "  def __init__(self, num_mfccs, hid1, hid2, out):\n",
    "    super().__init__()\n",
    "    self.sigmoid = nn.Sigmoid()\n",
    "    self.relu = nn.ReLU()\n",
    "    self.fc1 = nn.Linear(num_mfccs, hid1)\n",
    "    torch.nn.init.xavier_uniform_(self.fc1.weight)\n",
    "    self.fc2 = nn.Linear(hid1, hid2)\n",
    "    torch.nn.init.xavier_uniform_(self.fc2.weight)\n",
    "    self.fc3 = nn.Linear(hid2, out)\n",
    "    torch.nn.init.xavier_uniform_(self.fc3.weight)\n",
    "\n",
    "  # pass forward for nn\n",
    "  def forward(self, x):\n",
    "    x=self.relu(self.fc1(x))\n",
    "    x=self.relu(self.fc2(x))\n",
    "    x=self.sigmoid(self.fc3(x))\n",
    "    return x\n",
    "\n",
    "\n",
    "#set parameters\n",
    "num_epochs = 30\n",
    "num_mfccs = 20\n",
    "hidden1_size = 100\n",
    "hidden2_size = 25\n",
    "out_size = 1\n",
    "\n",
    "# set other constants\n",
    "sr = 22050\n",
    "hop_length = 512\n",
    "song_dur = 120\n",
    "\n",
    "# create neural network\n",
    "pause_net = PauseNet1(num_mfccs, hidden1_size, hidden2_size, out_size)\n",
    "optimizer = optim.Adam(pause_net.parameters(), lr=0.0005)\n",
    "loss_func = nn.BCELoss()\n",
    "\n",
    "# # get data\n",
    "# generate_lyrics_label()\n",
    "# # Pack the label and .wav file\n",
    "# iso_labels, iso_wavs, reg_wavs = zip_label_wav()\n",
    "# reg_wav = np.array(reg_wav_list)\n",
    "# iso_wav = np.array(iso_wav_list)\n",
    "for epoch in range(num_epochs):\n",
    "  total_loss = 0\n",
    "  for song_sr, labels in zip(reg_wav_list, label_torch):\n",
    "      count = 0\n",
    "      song = song_sr[0]\n",
    "      # sample window of 2048 and hop size of 512 samples\n",
    "      mfccs = librosa.feature.mfcc(y=song, n_mfcc=num_mfccs) #(num_mfccs, 5168)\n",
    "\n",
    "      #breaks down mfccs into their time intervals\n",
    "      audio_length = len(song) / sr # in seconds\n",
    "      step = hop_length / sr # in seconds\n",
    "      intervals_s = np.arange(0, audio_length, step)\n",
    "\n",
    "      # get each second and sample\n",
    "      for label in labels:\n",
    "          #allows me to easily find the cutoff\n",
    "          intervals_s -= 1\n",
    "          #isolate a single second\n",
    "          sec_interval = np.where(intervals_s < 0)[0]\n",
    "          # indexes a single second of song from MFCCs\n",
    "          song_sec = np.take(mfccs, sec_interval, axis=1)\n",
    "\n",
    "          #average the values over a second\n",
    "          inp = torch.from_numpy(np.mean(song_sec, axis=1))\n",
    "\n",
    "          label_tensor = torch.tensor([label])\n",
    "\n",
    "          optimizer.zero_grad()\n",
    "          pred = pause_net.forward(inp)\n",
    "          \n",
    "          # nonpause proper label is 0, pause proper label is 1\n",
    "          loss = loss_func(pred, label_tensor)\n",
    "          total_loss += loss\n",
    "          count+=1\n",
    "          loss.backward()\n",
    "          optimizer.step()\n",
    "      print(count)\n",
    "  print(\"Epoch %i Total Loss: %.3f\" % (epoch, total_loss))"
   ]
  }
 ],
 "metadata": {
  "interpreter": {
   "hash": "52469ae204d1d50c448c04334a11ed7bbfc3a11760631521f4bdc0e8f20089d8"
  },
  "kernelspec": {
   "display_name": "Python 3.9.10 64-bit",
   "language": "python",
   "name": "python3"
  },
  "language_info": {
   "codemirror_mode": {
    "name": "ipython",
    "version": 3
   },
   "file_extension": ".py",
   "mimetype": "text/x-python",
   "name": "python",
   "nbconvert_exporter": "python",
   "pygments_lexer": "ipython3",
   "version": "3.9.10"
  },
  "orig_nbformat": 4
 },
 "nbformat": 4,
 "nbformat_minor": 2
}
